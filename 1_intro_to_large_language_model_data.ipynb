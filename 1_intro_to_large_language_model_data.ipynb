{
 "cells": [
  {
   "cell_type": "markdown",
   "id": "ea92e8d5-1795-4759-a01e-3d62cfe32609",
   "metadata": {},
   "source": [
    "# Intro to Large Language Model Data"
   ]
  },
  {
   "cell_type": "markdown",
   "id": "67bde9fd-5ac0-4408-b6b5-640f538ce1f6",
   "metadata": {},
   "source": [
    "When you look at a sentence, a paragraph, an email, a text message, a web page, an article, a novel, what do you see? Let's take a look at the opening paragraph of the timeless Charles Dickens book _A Tale of Two Cities_. \n",
    "\n",
    "> It was the best of times, it was the worst of times, it was the age of wisdom, it was the age of foolishness, it was the epoch of belief, it was the epoch of incredulity, it was the season of Light, it was the season of Darkness, it was the spring of hope, it was the winter of despair, we had everything before us, we had nothing before us, we were all going direct to Heaven, we were all going direct the other way--in short, the period was so far like the present period, that some of its noisiest authorities insisted on its being received, for good or for evil, in the superlative degree of comparison only."
   ]
  },
  {
   "cell_type": "markdown",
   "id": "c66ca5eb-f086-446c-b27b-c19ca875e596",
   "metadata": {},
   "source": [
    "When you see this piece of classic work, what do you see? What does your mind do? What meaning do you attach to the words? What context?\n",
    "\n",
    "If you did not know already, this novel took place during the French Revolution. Does that change how you read the paragraph again? \n",
    "\n",
    "Now ask yourself this: what does a computer see? Does it extrapolate context about the French Revolution? Qualities about Charles Dickens as an author? The purpose of the contradictions in the prose? Let me simplify things and make it a little less ambitious. Does the computer even know what words are much more the meaning of the word \"best\" and \"times\"? \n",
    "\n",
    "Well if we are going to get technical, this is what the computer sees this paragraph as: bytes of 1's and 0's in an ASCII/UTF-8 format.  "
   ]
  },
  {
   "cell_type": "markdown",
   "id": "11ad3948-c662-4aa5-9310-fa59e95d3569",
   "metadata": {},
   "source": [
    "```\n",
    "01001001 01110100 00100000 01110111 01100001 01110011 00100000 01110100 01101000 01100101 00100000 01100010 01100101 01110011 01110100 00100000 01101111 01100110 00100000 01110100 01101001 01101101 01100101 01110011 00101100 00100000 01101001 01110100 00100000 01110111 01100001 01110011 00100000 01110100 01101000 01100101 00100000 01110111 01101111 01110010 01110011 01110100 00100000 01101111 01100110 00100000 01110100 01101001 01101101 01100101 01110011 00101100 00100000 01101001 01110100 00100000 01110111 01100001 01110011 00100000 01110100 01101000 01100101 00100000 01100001 01100111 01100101 00100000 01101111 01100110 00100000 01110111 01101001 01110011 01100100 01101111 01101101 00101100 00100000 01101001 01110100 00100000 01110111 01100001 01110011 00100000 01110100 01101000 01100101 00100000 01100001 01100111 01100101 00100000 01101111 01100110 00100000 01100110 01101111 01101111 01101100 01101001 01110011 01101000 01101110 01100101 01110011 01110011 00101100 00100000 01101001 01110100 00100000 01110111 01100001 01110011 00100000 01110100 01101000 01100101 00100000 01100101 01110000 01101111 01100011 01101000 00100000 01101111 01100110 00100000 01100010 01100101 01101100 01101001 01100101 01100110 00101100 00100000 01101001 01110100 00100000 01110111 01100001 01110011 00100000 01110100 01101000 01100101 00100000 01100101 01110000 01101111 01100011 01101000 00100000 01101111 01100110 00100000 01101001 01101110 01100011 01110010 01100101 01100100 01110101 01101100 01101001 01110100 01111001 00101100 00100000 01101001 01110100 00100000 01110111 01100001 01110011 00100000 01110100 01101000 01100101 00100000 01110011 01100101 01100001 01110011 01101111 01101110 00100000 01101111 01100110 00100000 01001100 01101001 01100111 01101000 01110100 00101100 00100000 01101001 01110100 00100000 01110111 01100001 01110011 00100000 01110100 01101000 01100101 00100000 01110011 01100101 01100001 01110011 01101111 01101110 00100000 01101111 01100110 00100000 01000100 01100001 01110010 01101011 01101110 01100101 01110011 01110011 00101100 00100000 01101001 01110100 00100000 01110111 01100001 01110011 00100000 01110100 01101000 01100101 00100000 01110011 01110000 01110010 01101001 01101110 01100111 00100000 01101111 01100110 00100000 01101000 01101111 01110000 01100101 00101100 00100000 01101001 01110100 00100000 01110111 01100001 01110011 00100000 01110100 01101000 01100101 00100000 01110111 01101001 01101110 01110100 01100101 01110010 00100000 01101111 01100110 00100000 01100100 01100101 01110011 01110000 01100001 01101001 01110010 00101100 00100000 01110111 01100101 00100000 01101000 01100001 01100100 00100000 01100101 01110110 01100101 01110010 01111001 01110100 01101000 01101001 01101110 01100111 00100000 01100010 01100101 01100110 01101111 01110010 01100101 00100000 01110101 01110011 00101100 00100000 01110111 01100101 00100000 01101000 01100001 01100100 00100000 01101110 01101111 01110100 01101000 01101001 01101110 01100111 00100000 01100010 01100101 01100110 01101111 01110010 01100101 00100000 01110101 01110011 00101100 00100000 01110111 01100101 00100000 01110111 01100101 01110010 01100101 00100000 01100001 01101100 01101100 00100000 01100111 01101111 01101001 01101110 01100111 00100000 01100100 01101001 01110010 01100101 01100011 01110100 00100000 01110100 01101111 00100000 01001000 01100101 01100001 01110110 01100101 01101110 00101100 00100000 01110111 01100101 00100000 01110111 01100101 01110010 01100101 00100000 01100001 01101100 01101100 00100000 01100111 01101111 01101001 01101110 01100111 00100000 01100100 01101001 01110010 01100101 01100011 01110100 00100000 01110100 01101000 01100101 00100000 01101111 01110100 01101000 01100101 01110010 00100000 01110111 01100001 01111001 00101101 00101101 01101001 01101110 00100000 01110011 01101000 01101111 01110010 01110100 00101100 00100000 01110100 01101000 01100101 00100000 01110000 01100101 01110010 01101001 01101111 01100100 00100000 01110111 01100001 01110011 00100000 01110011 01101111 00100000 01100110 01100001 01110010 00100000 01101100 01101001 01101011 01100101 00100000 01110100 01101000 01100101 00100000 01110000 01110010 01100101 01110011 01100101 01101110 01110100 00100000 01110000 01100101 01110010 01101001 01101111 01100100 00101100 00100000 01110100 01101000 01100001 01110100 00100000 01110011 01101111 01101101 01100101 00100000 01101111 01100110 00100000 01101001 01110100 01110011 00100000 01101110 01101111 01101001 01110011 01101001 01100101 01110011 01110100 00100000 01100001 01110101 01110100 01101000 01101111 01110010 01101001 01110100 01101001 01100101 01110011 00100000 01101001 01101110 01110011 01101001 01110011 01110100 01100101 01100100 00100000 01101111 01101110 00100000 01101001 01110100 01110011 00100000 01100010 01100101 01101001 01101110 01100111 00100000 01110010 01100101 01100011 01100101 01101001 01110110 01100101 01100100 00101100 00100000 01100110 01101111 01110010 00100000 01100111 01101111 01101111 01100100 00100000 01101111 01110010 00100000 01100110 01101111 01110010 00100000 01100101 01110110 01101001 01101100 00101100 00100000 01101001 01101110 00100000 01110100 01101000 01100101 00100000 01110011 01110101 01110000 01100101 01110010 01101100 01100001 01110100 01101001 01110110 01100101 00100000 01100100 01100101 01100111 01110010 01100101 01100101 00100000 01101111 01100110 00100000 01100011 01101111 01101101 01110000 01100001 01110010 01101001 01110011 01101111 01101110 00100000 01101111 01101110 01101100 01111001 00101110\n",
    "```"
   ]
  },
  {
   "cell_type": "markdown",
   "id": "115779d9-8384-479f-ae87-3b23bc415469",
   "metadata": {},
   "source": [
    "Binary is like the decimal system we know and love, except we have only the digits 0 and 1 instead of 0,1,2,3,4,5,6,7,8, and 9. In a byte, the number 0 would be expressed as `000000000`, and then 1 would be `00000001`. However, 2 would be `00000010` and 3 would be `00000011`. By establishing an agreed protocol like UTF-8, we can express text characters as binary numbers. The character \"I\" is `01001001`, \"t\" is `01110100`, and a space is `00100000`. Those are the first three characters of the paragraph. "
   ]
  },
  {
   "cell_type": "markdown",
   "id": "952fffce-c4d0-43a7-9740-6015560f2ca6",
   "metadata": {},
   "source": [
    "![svg image](data:image/svg+xml;base64,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)"
   ]
  },
  {
   "cell_type": "markdown",
   "id": "1564f63c-8d1d-43fd-90b2-1e5a561aa8e8",
   "metadata": {},
   "source": [
    "Now before you get excited and say \"oh so this is how text data is seen by LLMs\" hold your horses. While it is important to understand how data is stored as 1's and 0's by computers in this way, this is just a basic piece of knowledge as LLMs do many mathematical representations of language. Different types of mathematical transformations are applied to different language problems. But the big idea to extract for now is this: **to computers and large language models, language is nothing more than numbers.** What mathematical representations we use to express those numbers depends on the task and modeling strategy we want to employ. \n",
    "\n",
    "But before we get into that, let's talk about natural language processing and large language models. "
   ]
  },
  {
   "cell_type": "markdown",
   "id": "74a1b72b-ea67-4976-bf33-1212055f6ab9",
   "metadata": {},
   "source": [
    "## What is Natural Language Processing? "
   ]
  },
  {
   "cell_type": "markdown",
   "id": "e0f29eba-55b8-41e3-9e8d-8af39242900c",
   "metadata": {},
   "source": [
    "**Natural language processing (NLP)** is a garden variety of ways computers process speech and text. A field that is more than 50 years old, NLP tries to find efficient and accurate ways to convert language and perform meaningful tasks with it. For example, it can be transcribing speech in audio or summarizing several text documents into a single paragraph. We are also seeing natural language processing being used to generate images off language prompts. Even simple applications exist, like predicting an emoji response given the sentiment analysis of a text message. Given how much we humans use oral and text language every day, the these applications can be seemingly endless. With advances in machine learning and generative AI, the field has only gotten more interesting and exciting.\n",
    "\n",
    "Linguistics, the study of language, has increasingly married itself to computer science to take advantage of the powerful processing and statistical methods that only make sense with the growing availability of language data. We have had practically the entire world's library transcribed to digital form, on top of articles and social media outlets. The data-driven approaches have now become the preferred means of research in linguistics although traditional heuristics still lends itself. After all, one must consider language is much more than emperically answering the question \"what word has the highest probability of coming next?\" There is a complex structure to human language with a high volume of rules, as well as a high volume of exceptions to those rules. \n",
    "\n",
    "Naturally, some language tasks come easier in natural language processing such as predicting a happy or angry sentiment in a customer review. Others can be difficult and largely unsolved, such as determining if the reviews are fake or generated by bots. A great paradox even exists in generative AI research where the more an \"AI\" improves and sounds human-like, how is another AI supposed to identify its inauthenticity? Take another example of a a robotic call operator. The robotic operator can pretty easily help a customer on the helpline by processing their voice feedback, as long as the possible actions are narrow and defined (e.g. asking about a shipment update, or processing a return). But being able to create a customer service bot for a large company that can help every customer issue without ever involving a human is likely impossible. \n",
    "\n",
    "Regardless, we are not going to address these open questions. We will focus on this though. Even with breakthroughs like ChatGPT, we are still not without challenges in natural language processing. Natural language is messy, full of double-meanings, and nuance. Typos, grammar issues, and inconsistent formatting alone are issues that are time-consuming to deal with.  In the area of natural language processing, we are going to bring our attention to large language models or more specifically, the preparation of data going into LLMs. Let's talk about large language models next. "
   ]
  },
  {
   "cell_type": "markdown",
   "id": "e18eaa56-02ed-465c-90b1-ee23a63b4fbf",
   "metadata": {},
   "source": [
    "## What are Large Language Models?"
   ]
  },
  {
   "cell_type": "markdown",
   "id": "a9f8bb21-0ff6-4b7e-9966-845dc233c3a8",
   "metadata": {},
   "source": [
    "You probably have heard of **large language models (LLMs)**, which are massive mathematical algorithms, trained by an emormous corpus of text data, that can generate and seemingly \"understand\" language. GPT models (including ChatGPT), Gemini, and LLaMa are several large language models that have made generative AI a mainstream cultural phenomenon. Breakthrough models like these were enabled by the recent innovation of the transformer architecture, further building on previous paradigms like recurrent neural networks and long short-term memory neural networks. While we will not learn how to build these large language models in this course, we will learn some important groundwork in preparing and interpreting language data as understood by these models. "
   ]
  },
  {
   "cell_type": "markdown",
   "id": "12fff957-f1f3-45fc-8ad9-40ea676f7f85",
   "metadata": {},
   "source": [
    "![svg image](data:image/svg+xml;base64,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)"
   ]
  },
  {
   "cell_type": "markdown",
   "id": "e4ff61bb-ebb4-4b88-89cc-6b290c43db79",
   "metadata": {},
   "source": [
    "Let's look at an interesting example. Go to [Google Gemini](https://gemini.google.com/) and and ask it to rewrite this email to be more diplomatic. \n",
    "\n",
    "> Hey Sam! You pushed code to the production branch that was full of bugs and several unit tests. You need to do better than this!\n",
    "\n",
    "When you observe its output, consider in amazement how it took that input, tokenized and vectorized it in some way, and then after a number of mathematical operations it gave this output. Amazing, right? \n",
    "\n"
   ]
  }
 ],
 "metadata": {
  "kernelspec": {
   "display_name": "Python 3 (ipykernel)",
   "language": "python",
   "name": "python3"
  },
  "language_info": {
   "codemirror_mode": {
    "name": "ipython",
    "version": 3
   },
   "file_extension": ".py",
   "mimetype": "text/x-python",
   "name": "python",
   "nbconvert_exporter": "python",
   "pygments_lexer": "ipython3",
   "version": "3.11.5"
  }
 },
 "nbformat": 4,
 "nbformat_minor": 5
}
