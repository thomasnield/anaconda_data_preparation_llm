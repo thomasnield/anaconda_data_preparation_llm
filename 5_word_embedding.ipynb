{
 "cells": [
  {
   "cell_type": "markdown",
   "id": "2969a31d-55f9-473b-92af-ed8b88dd9059",
   "metadata": {},
   "source": [
    "# Word Embeddings"
   ]
  },
  {
   "cell_type": "markdown",
   "id": "4335677d-0247-46d9-b93f-298f9ee4eafa",
   "metadata": {},
   "source": [
    "We learned a few ways to extract features from text data, and represent them as vectors. For the purposes of large language models and more ambitious natural language processing projects, word embeddings are a critical technique that will serve as a capstone to this course. \n",
    "\n",
    "**Word embeddings** are a technique for representing similar or related words to be close together in a vector space. It has allowed many breakthroughs in natural language processing, including the large language models we know today. The technical advantage they bring is they clump together words that are related and therefore reduce the number of dimensions needed, and by creating this density there is more data available for a given context. This greatly reduces the dimensionality and the number of features. \n",
    "\n",
    "Each word is mapped to a vector, and that vector takes up a point in space. Words that tend to be used together in a similar context are going to have vectors that are closer together. For example, \"dog\" and \"dalmation\" are likely to be close together. However, \"dog\" and \"cat\" are also going to be close together because those two words are often used together in the same sentence/context as well. The word \"pet\" should be close to those vectors as well. \n",
    "\n",
    "\"Candy\" and \"Chocolate\" will be close together, but not be anywhere near the \"dog\", \"pet\", or \"cat\"-related words. "
   ]
  },
  {
   "cell_type": "markdown",
   "id": "6e0cc954-d473-4137-8f0b-e52420b4f727",
   "metadata": {},
   "source": [
    "![svg image](data:image/svg+xml;base64,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)"
   ]
  },
  {
   "cell_type": "markdown",
   "id": "75294571-7f85-434a-b3d3-ee82b35b1e19",
   "metadata": {},
   "source": [
    "So how are these word embeddings built? Generally speaking, a neural network or other algorithm will look around a word at the other words surrounding it. Then you will have a model that for a given word input, will output words with probabilities that they are associated with that word, or perhaps are the next word in a sentence. Think of a given input word outputting a probability distribution of other words that would surround it. Given a large enough text dataset, enough context can be constructed to productively predict relevant words. \n",
    "\n",
    "What gets really interesting is how contexts can be navigated. If you have a sufficient word embedding model you can take the vector for \"king,\" subtract the vector for \"man,\" add the vector for \"woman,\" and then land close to the vector for \"queen.\" Similarly, if I take the vector for \"shirt,\" subtract the vector \"man,\" then add the vector \"woman\" I might get the word \"blouse.\" Or if I take the vector for \"Berlin\" and subtract \"Germany,\" then add \"England\" I *should* get \"London.\" "
   ]
  },
  {
   "cell_type": "markdown",
   "id": "532526ac-c705-4be2-b977-46df6472d9b8",
   "metadata": {},
   "source": [
    "## Word2Vec"
   ]
  },
  {
   "cell_type": "markdown",
   "id": "ebdaf0df-f63d-4f66-9262-520d65bad957",
   "metadata": {},
   "source": [
    "Back in 2013, Tomas Mikolov at Google developed a famous method [Word2Vec](https://en.wikipedia.org/wiki/Word2vec) to build word embeddings. It has become the standard for word embeddings and many extensions like GloVe have been built around it. It can build two types of models for word embeddings: \n",
    "\n",
    "* CBOW - Continuous bag of word, builds a word embedding by predicting the current word based on its context.\n",
    "* Continuous Skip-Gram Model - Builds a word embedding by predicting the surrounding words given a current word.\n",
    "\n",
    "Word2Vec takes each current word and looks at a window of neighboring words, and the size of this window is configurable. Because of the efficiency of the algorithm, larger embeddings can be built efficiently from larger amounts of training data.\n",
    "\n",
    "An extension to Word2Vec, Global Vectors for Word Representation ([GloVe](https://en.wikipedia.org/wiki/GloVe)) was further developed in 2014 by researchers at Stanford. It incorporates Latent Semantic Analysis (LSA) and other techniques that better incorporate global word statistics. Instead of using a window for local context, it uses statistics across the entire text corpus. This results in substantial improvements to word embeddings. "
   ]
  },
  {
   "cell_type": "code",
   "execution_count": null,
   "id": "8e89b3bf-9fc3-4146-bd3b-fcb9ef388c84",
   "metadata": {},
   "outputs": [],
   "source": []
  }
 ],
 "metadata": {
  "kernelspec": {
   "display_name": "Python 3 (ipykernel)",
   "language": "python",
   "name": "python3"
  },
  "language_info": {
   "codemirror_mode": {
    "name": "ipython",
    "version": 3
   },
   "file_extension": ".py",
   "mimetype": "text/x-python",
   "name": "python",
   "nbconvert_exporter": "python",
   "pygments_lexer": "ipython3",
   "version": "3.12.2"
  }
 },
 "nbformat": 4,
 "nbformat_minor": 5
}
