{
 "cells": [
  {
   "cell_type": "markdown",
   "id": "61fc40f9-4bf6-4302-99eb-e389926ce36e",
   "metadata": {},
   "source": [
    "# Bag of Words Project"
   ]
  },
  {
   "cell_type": "markdown",
   "id": "7459eccf-27f7-4ab2-8906-f87e5c7262c0",
   "metadata": {},
   "source": [
    "In this section, we are going to explore creating a bag of words on a messier, more real-world dataset. We are going to take some Tesla customer reviews and create a bag of words off of them using the techniques we learned earlier. While we could use a much larger dataset across all car brands, this might be a sufficient for our purposes just looking at one brand. The main objective here is to learn how to handle multiple documents and integrate our knowledge with what we know so far. \n",
    "\n",
    "This `tesla_car_reviews.csv` dataset is a CSV, so it will be easiest to open it first with pandas. We will also set some configurations to show all rows and not truncate them. "
   ]
  },
  {
   "cell_type": "code",
   "execution_count": null,
   "id": "6c1ecfb1-a763-430d-beb4-b45932262119",
   "metadata": {
    "scrolled": true
   },
   "outputs": [],
   "source": [
    "import pandas as pd \n",
    "import urllib.request\n",
    "\n",
    "pd.set_option('display.max_rows', None) # Don't hide any rows \n",
    "\n",
    "urllib.request.urlretrieve(r\"https://raw.githubusercontent.com/thomasnield/anaconda_data_preparation_llm/refs/heads/main/tesla_car_reviews.csv\", 'tesla_car_reviews.csv')\n",
    "\n",
    "df = pd.read_csv('tesla_car_reviews.csv')\n",
    "df"
   ]
  },
  {
   "cell_type": "markdown",
   "id": "f2fd2696-934a-46ff-8a75-17704f176f7b",
   "metadata": {},
   "source": [
    "Let's say we are interested in building a large language model or doing some sentiment analysis on these reviews. Let's bring our attention to the `Review_Title` and `Review` columns. We will concatenate the two together but treat each pair as a separate document. Let's do that and print each one. "
   ]
  },
  {
   "cell_type": "code",
   "execution_count": null,
   "id": "5b353a61-0fb3-49e2-8703-cf5ea8f55770",
   "metadata": {},
   "outputs": [],
   "source": [
    "titles = df[\"Review_Title\"].to_list()\n",
    "reviews = df[\"Review\"].to_list()\n",
    "docs = [f\"{t}. {r}\\n\" for t,r in zip(titles, reviews)]\n",
    "\n",
    "for doc in docs: \n",
    "    print(doc)"
   ]
  },
  {
   "cell_type": "markdown",
   "id": "237be8e7-7631-4db9-b52e-34b3d5174846",
   "metadata": {},
   "source": [
    "## Cleaning and Tokenizing the Data "
   ]
  },
  {
   "cell_type": "markdown",
   "id": "c781b5e7-00b8-4ee3-8911-00388ffc116d",
   "metadata": {},
   "source": [
    "Study the output for one moment. What do you notice? Here are some of my observations: \n",
    "\n",
    "* There are emojis in the data.\n",
    "* This is user data, so there are a lot of typos, grammar, slang, and unconventional formatting.\n",
    "* There are numbers, model names, and other nonstandard tokens.\n",
    "* There is a lot of messy and improper punctuation, as well as our own we introduced.\n",
    "* There is improper and inconsistent use of capitalization.\n",
    "\n",
    "Let's say we are interested in doing sentiment analysis, where we are developing a model that predicts a review being positive or negative based on the words. This might mean we remove some stop words, and perhaps stem or lemmatize words. \n",
    "\n",
    "Whether we clean the data from scratch, use NLTK, or spaCy we will need to treat each document individually. Let's say we settle on using spaCy. We will turn each document into a spaCy document. "
   ]
  },
  {
   "cell_type": "code",
   "execution_count": null,
   "id": "658f8959-6f80-4e65-ae28-bfa6f5d6a9d5",
   "metadata": {},
   "outputs": [],
   "source": [
    "import spacy \n",
    "nlp = spacy.load(\"en_core_web_sm\")\n",
    "\n",
    "spacy_docs = [nlp(doc) for doc in docs]\n",
    "\n",
    "for spacy_doc in spacy_docs: \n",
    "    print(spacy_doc)"
   ]
  },
  {
   "cell_type": "markdown",
   "id": "4c2c9312-5b47-4dd2-8246-d2a49b9f9634",
   "metadata": {},
   "source": [
    "Within each document, we traverse each sentence. Below, we take the first document and iterate each of the sentences. "
   ]
  },
  {
   "cell_type": "code",
   "execution_count": null,
   "id": "70ec824a-824d-4692-833b-5ea33dc29a05",
   "metadata": {
    "scrolled": true
   },
   "outputs": [],
   "source": [
    "for sent in spacy_docs[0].sents: \n",
    "    print(sent)"
   ]
  },
  {
   "cell_type": "markdown",
   "id": "2670ec5d-c088-47ce-8687-6358fc5f9a9f",
   "metadata": {},
   "source": [
    "We can also iterate each individual word. "
   ]
  },
  {
   "cell_type": "code",
   "execution_count": null,
   "id": "42005bfd-9069-4f24-ada1-028b45f5ebff",
   "metadata": {},
   "outputs": [],
   "source": [
    "for token in spacy_docs[0]: \n",
    "    print(token)"
   ]
  },
  {
   "cell_type": "markdown",
   "id": "72192f7e-cedb-489e-b85d-e279f11694f7",
   "metadata": {},
   "source": [
    "If we want to filter out punctuation, stopwords, and non-alphabetic words we can repackage in a list comprehension and filter those out. We will also make the words lowercase and pull out their lemmas. There are more robust ways to do this task with tokenizers in spaCy but we will stick with this re-concatenation approach for now. "
   ]
  },
  {
   "cell_type": "code",
   "execution_count": null,
   "id": "f7d08c92-7721-46c4-b7bd-ee080b4485a8",
   "metadata": {},
   "outputs": [],
   "source": [
    "for spacy_doc in spacy_docs: \n",
    "    cleaned_doc = nlp(' '.join([token.lemma_.lower() for token in spacy_doc if token.is_alpha and not token.is_stop]))\n",
    "    print(f\"{cleaned_doc}\\n\")"
   ]
  },
  {
   "cell_type": "markdown",
   "id": "a8b6fb89-2c84-4769-baac-cd4413e456ba",
   "metadata": {},
   "source": [
    "Let's package these cleaned docs in a new list. Let's also make the docs strings again, rather than converting to spaCy docs using `nlp()`. While we could keep using spaCy, we will switch to scikit-learn. "
   ]
  },
  {
   "cell_type": "code",
   "execution_count": null,
   "id": "4979645b-7632-45a7-8b72-caefe2f175e1",
   "metadata": {},
   "outputs": [],
   "source": [
    "cleaned_docs = [' '.join([token.lemma_.lower() for token in spacy_doc if token.is_alpha and not token.is_stop])\n",
    "                for spacy_doc in spacy_docs]"
   ]
  },
  {
   "cell_type": "markdown",
   "id": "0f679c31-1666-4a1b-bad9-1be4bdcce9bf",
   "metadata": {},
   "source": [
    "We could go a step further and try to correct typos, and there are many Python libraries to assist with this. Spell-checking and correcting can be a tedious process, and you may decide to omit anything that is not a dictionary word rather than go through each candidate corrective word for a typo. It really depends on the task but for our case of preparing for sentiment analysis, this should be fine. "
   ]
  },
  {
   "cell_type": "markdown",
   "id": "62b84fa7-f9d4-46e0-b349-52e0408ed75c",
   "metadata": {},
   "source": [
    "## Vectorizing the Data"
   ]
  },
  {
   "cell_type": "markdown",
   "id": "78c154aa-bcba-4c2d-b74d-84de07d36974",
   "metadata": {},
   "source": [
    "### CountVectorizer"
   ]
  },
  {
   "cell_type": "markdown",
   "id": "19dcf126-2ba2-42f9-a5f4-5cd6781a1642",
   "metadata": {},
   "source": [
    "Next, let's build a `CountVectorizer` off these cleaned docs. "
   ]
  },
  {
   "cell_type": "code",
   "execution_count": null,
   "id": "5873098a-d25c-4315-860b-e0d657c1ca41",
   "metadata": {},
   "outputs": [],
   "source": [
    "from sklearn.feature_extraction.text import CountVectorizer\n",
    "\n",
    "vectorizer = CountVectorizer()\n",
    "\n",
    "# tokenize \n",
    "vectorizer.fit(cleaned_docs)\n",
    "\n",
    "# show vocabulary\n",
    "print(vectorizer.vocabulary_)"
   ]
  },
  {
   "cell_type": "markdown",
   "id": "1cc65400-cd24-4163-b750-9086aa294a31",
   "metadata": {},
   "source": [
    "Keep in mind the vocabulary is only going to be limited to what the vocabulary the reviews contain. This means any new words we introduce in a new vector will simply be omitted. For example, if we create a vector off the review \"My Tesla is the best!\" the words \"my\", \"is\", and \"the\" are ignored because these were all stopwords that were removed. We should only see a \"1\" for the words \"tesla\" and \"best\". "
   ]
  },
  {
   "cell_type": "code",
   "execution_count": null,
   "id": "2016600b-3f94-4f29-b3f7-51e33b1590ef",
   "metadata": {},
   "outputs": [],
   "source": [
    "import numpy as np \n",
    "np.set_printoptions(threshold=np.inf) # don't truncate vector outputs \n",
    "\n",
    "# encode a new document\n",
    "vector = vectorizer.transform([\"My Tesla is the best!\"])\n",
    "\n",
    "# summarize vector\n",
    "vector.toarray()"
   ]
  },
  {
   "cell_type": "markdown",
   "id": "e3d3630c-2108-4239-ba20-1fa413b74929",
   "metadata": {},
   "source": [
    "### TF-IDF Vectorizer"
   ]
  },
  {
   "cell_type": "markdown",
   "id": "f9c7c594-6a20-46a2-84ac-e0dacd3c0d7e",
   "metadata": {},
   "source": [
    "The interesting thing about using the `TfidVectorizer` is that we do not necessarily need to omit stop words from the documents. Since this vectorizer scores words by how \"surprising\" they are and uncommon in the docs, we can trust the stop words like \"the\" will be scored low. However, words like \"best\" will stand out more and be scored higher. "
   ]
  },
  {
   "cell_type": "code",
   "execution_count": null,
   "id": "fba822db-a364-403d-965d-b903170a21ee",
   "metadata": {},
   "outputs": [],
   "source": [
    "from sklearn.feature_extraction.text import TfidfVectorizer\n",
    "\n",
    "cleaned_docs = [' '.join([token.lemma_.lower() for token in spacy_doc if token.is_alpha])\n",
    "                for spacy_doc in spacy_docs]\n",
    "\n",
    "vectorizer = TfidfVectorizer()\n",
    "\n",
    "# tokenize \n",
    "vectorizer.fit(cleaned_docs)\n",
    "\n",
    "# show vocabulary and scores \n",
    "print(vectorizer.vocabulary_)\n",
    "print(vectorizer.idf_)"
   ]
  },
  {
   "cell_type": "markdown",
   "id": "f37d7c5a-dd21-4dad-8fb3-c0cc2a857ff5",
   "metadata": {},
   "source": [
    "When we create a vector for the review \"My Tesla is the best!\" note that we get a four words scored higher than zero. The word \"best\" scored really high at approximately `0.8522`. Other words like the stop word and \"Tesla\" scored low at `0.3144930734482443`. It makes sense that \"Tesla\" scored low because the reviews are about Tesla, and therefore is going to be mentioned by name frequently. "
   ]
  },
  {
   "cell_type": "code",
   "execution_count": null,
   "id": "07db38d0-b659-49a7-85c1-a56b02c52b8d",
   "metadata": {},
   "outputs": [],
   "source": [
    "# encode a new document\n",
    "vector = vectorizer.transform([\"My Tesla is the best!\"])\n",
    "\n",
    "# summarize vector\n",
    "vector.toarray()"
   ]
  },
  {
   "cell_type": "markdown",
   "id": "dd478c30-d097-4682-b39a-8b4a697c9e3b",
   "metadata": {},
   "source": [
    "### Hashing Vectorizer"
   ]
  },
  {
   "cell_type": "markdown",
   "id": "15d148ad-0e17-4f72-8cb3-cb9a6b82db8c",
   "metadata": {},
   "source": [
    "Finally, we can use a `HashingVectorizer` if we know this is a one-way conversion. Since we talked about sentiment analysis being the application and that is a prediction system, this might be appropriate. "
   ]
  },
  {
   "cell_type": "code",
   "execution_count": null,
   "id": "07cebcbf-45ec-4192-ad40-aa6024598abb",
   "metadata": {},
   "outputs": [],
   "source": [
    "from sklearn.feature_extraction.text import HashingVectorizer\n",
    "\n",
    "vectorizer = HashingVectorizer(n_features=2**10) # default n_features = 2**20\n",
    "\n",
    "# tokenize \n",
    "vectorizer.fit(cleaned_docs)\n",
    "\n",
    "# encode a new document\n",
    "vector = vectorizer.transform([\"My Tesla is the best!\"])\n",
    "\n",
    "# summarize vector\n",
    "vector.toarray()"
   ]
  },
  {
   "cell_type": "markdown",
   "id": "1976e72e-f8c4-4fc5-a285-b666898b33d2",
   "metadata": {},
   "source": [
    "## Conclusion"
   ]
  },
  {
   "cell_type": "markdown",
   "id": "febf90ea-1ba1-43db-8049-aebdb0151490",
   "metadata": {},
   "source": [
    "We learned to scale up our knowledge and integrate the cleaning, tokenization, and vectorization processes with multiple documents. Of course, we dealt with documents packaged in a pandas DataFrame but you can extend this approach to processing separate files and other data sources. This was still a relatively small dataset as well, but it was sizable enough to get a taste of the data preparation process. "
   ]
  },
  {
   "cell_type": "markdown",
   "id": "b3334f17-2307-4305-907f-17b7ea8526fc",
   "metadata": {},
   "source": [
    "## Exercise"
   ]
  },
  {
   "cell_type": "markdown",
   "id": "865fcf17-05b3-43c5-aa79-5269e23beafc",
   "metadata": {},
   "source": [
    "![svg image](data:image/svg+xml;base64,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)\n",
    "\n",
    "We just collected and processed customer reviews about Tesla cars. If we were trying to build applications that predict whether each review is favorable or not based on the text, what are some bigger questions we need to consider when it comes to the quality of our data? **HINT: Think about who is creating the data and where the data is coming from.**\n",
    "\n",
    "### SCROLL DOWN FOR ANSWER\n",
    "|<br>\n",
    "|<br>\n",
    "|<br>\n",
    "|<br>\n",
    "|<br>\n",
    "|<br>\n",
    "|<br>\n",
    "|<br>\n",
    "|<br>\n",
    "|<br>\n",
    "|<br>\n",
    "|<br>\n",
    "|<br>\n",
    "|<br>\n",
    "|<br>\n",
    "|<br>\n",
    "|<br>\n",
    "|<br>\n",
    "|<br>\n",
    "|<br>\n",
    "|<br>\n",
    "|<br>\n",
    "|<br>\n",
    "v \n",
    "\n",
    "A big question we need to think about is the *bias* that exists in our data. Here are some possibilities: \n",
    "\n",
    "* Are happier customers, or unhappy customers, more likely to create reviews?\n",
    "* Do we need to have a proportional amount of happy versus unhappy customers so both groups are represented?\n",
    "* Does the review site tend to attract one type of reviewer more than others?\n",
    "* Are the reviews verified purchases? Or can they be planted by bots, employees, die-hard fans, and less-than-sincere sources?\n",
    "\n",
    "It is very easy to get caught up in the data and processing it, but do not forget to ask where it came from and what created it! "
   ]
  }
 ],
 "metadata": {
  "kernelspec": {
   "display_name": "anaconda-2024.02-py310",
   "language": "python",
   "name": "conda-env-anaconda-2024.02-py310-py"
  },
  "language_info": {
   "codemirror_mode": {
    "name": "ipython",
    "version": 3
   },
   "file_extension": ".py",
   "mimetype": "text/x-python",
   "name": "python",
   "nbconvert_exporter": "python",
   "pygments_lexer": "ipython3",
   "version": "3.10.14"
  }
 },
 "nbformat": 4,
 "nbformat_minor": 5
}
